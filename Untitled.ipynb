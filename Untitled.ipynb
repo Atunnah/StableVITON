{
 "cells": [
  {
   "cell_type": "code",
   "execution_count": 13,
   "id": "0d127d9b-bab5-4a10-87da-e505a35ef7c7",
   "metadata": {
    "scrolled": true
   },
   "outputs": [
    {
     "name": "stdout",
     "output_type": "stream",
     "text": [
      "Namespace(config_name=None, data_root_dir='./DATA/zalando-hd-resized', category=None, vae_load_path='./ckpts/VITONHD_VAE_finetuning.ckpt', batch_size=32, transform_size=None, transform_color=None, use_atv_loss=False, valid_epoch_freq=20, save_every_n_epochs=20, max_epochs=1000, save_root_dir='./logs', save_name='dummy', use_validation=True, resume_path=None, accum_iter=1, img_H=512, img_W=384, logger_freq=1000, learning_rate=0.0001, sd_unlocked=False, all_unlocked=False, only_mid_control=False, precision=16, num_sanity_val_steps=0, pbe_train_mode=False, lambda_simple=1.0, control_scales=None, imageclip_trainable=True, no_strict_load=False, config_path='./configs\\\\None.yaml', n_gpus=1, devices=[0], strategy='auto', sd_locked=True, no_validation=False, valid_real_dir='./DATA/zalando-hd-resized\\\\test\\\\image', save_dir='./logs\\\\20240712_dummy', img_save_dir='./logs\\\\20240712_dummy\\\\images', model_save_dir='./logs\\\\20240712_dummy\\\\models', tb_save_dir='./logs\\\\20240712_dummy\\\\tb', valid_img_save_dir='./logs\\\\20240712_dummy\\\\validation_sampled_images', args_save_path='./logs\\\\20240712_dummy\\\\args.json', config_save_path='./logs\\\\20240712_dummy\\\\config.yaml')\n"
     ]
    },
    {
     "ename": "FileNotFoundError",
     "evalue": "[Errno 2] No such file or directory: 'D:\\\\StableVITON\\\\StableVITON\\\\configs\\\\None.yaml'",
     "output_type": "error",
     "traceback": [
      "\u001b[1;31m---------------------------------------------------------------------------\u001b[0m",
      "\u001b[1;31mFileNotFoundError\u001b[0m                         Traceback (most recent call last)",
      "File \u001b[1;32mD:\\StableVITON\\StableVITON\\train.py:218\u001b[0m\n\u001b[0;32m      0\u001b[0m <Error retrieving source code with stack_data see ipython/ipython#13598>\n",
      "File \u001b[1;32mD:\\StableVITON\\StableVITON\\train.py:106\u001b[0m, in \u001b[0;36mmain_worker\u001b[1;34m(args)\u001b[0m\n\u001b[0;32m    105\u001b[0m \u001b[38;5;28;01mdef\u001b[39;00m \u001b[38;5;21mmain_worker\u001b[39m(args):\n\u001b[1;32m--> 106\u001b[0m     config \u001b[38;5;241m=\u001b[39m build_config(args)\n\u001b[0;32m    107\u001b[0m     OmegaConf\u001b[38;5;241m.\u001b[39msave(config, args\u001b[38;5;241m.\u001b[39mconfig_save_path)\n\u001b[0;32m    108\u001b[0m     model \u001b[38;5;241m=\u001b[39m create_model(args\u001b[38;5;241m.\u001b[39mconfig_path, config\u001b[38;5;241m=\u001b[39mconfig)\u001b[38;5;241m.\u001b[39mcpu()\n",
      "File \u001b[1;32mD:\\StableVITON\\StableVITON\\train.py:83\u001b[0m, in \u001b[0;36mbuild_config\u001b[1;34m(args, config_path)\u001b[0m\n\u001b[0;32m     81\u001b[0m \u001b[38;5;28;01mif\u001b[39;00m config_path \u001b[38;5;129;01mis\u001b[39;00m \u001b[38;5;28;01mNone\u001b[39;00m: \n\u001b[0;32m     82\u001b[0m     config_path \u001b[38;5;241m=\u001b[39m args\u001b[38;5;241m.\u001b[39mconfig_path\n\u001b[1;32m---> 83\u001b[0m config \u001b[38;5;241m=\u001b[39m OmegaConf\u001b[38;5;241m.\u001b[39mload(config_path)\n\u001b[0;32m     84\u001b[0m config\u001b[38;5;241m.\u001b[39mmodel\u001b[38;5;241m.\u001b[39mparams\u001b[38;5;241m.\u001b[39msetdefault(\u001b[38;5;124m\"\u001b[39m\u001b[38;5;124muse_VAEdownsample\u001b[39m\u001b[38;5;124m\"\u001b[39m, \u001b[38;5;28;01mFalse\u001b[39;00m)\n\u001b[0;32m     85\u001b[0m config\u001b[38;5;241m.\u001b[39mmodel\u001b[38;5;241m.\u001b[39mparams\u001b[38;5;241m.\u001b[39msetdefault(\u001b[38;5;124m\"\u001b[39m\u001b[38;5;124muse_imageCLIP\u001b[39m\u001b[38;5;124m\"\u001b[39m, \u001b[38;5;28;01mFalse\u001b[39;00m)\n",
      "File \u001b[1;32mD:\\Anaconda\\Lib\\site-packages\\omegaconf\\omegaconf.py:189\u001b[0m, in \u001b[0;36mOmegaConf.load\u001b[1;34m(file_)\u001b[0m\n\u001b[0;32m    186\u001b[0m \u001b[38;5;28;01mfrom\u001b[39;00m \u001b[38;5;21;01m.\u001b[39;00m\u001b[38;5;21;01m_utils\u001b[39;00m \u001b[38;5;28;01mimport\u001b[39;00m get_yaml_loader\n\u001b[0;32m    188\u001b[0m \u001b[38;5;28;01mif\u001b[39;00m \u001b[38;5;28misinstance\u001b[39m(file_, (\u001b[38;5;28mstr\u001b[39m, pathlib\u001b[38;5;241m.\u001b[39mPath)):\n\u001b[1;32m--> 189\u001b[0m     \u001b[38;5;28;01mwith\u001b[39;00m io\u001b[38;5;241m.\u001b[39mopen(os\u001b[38;5;241m.\u001b[39mpath\u001b[38;5;241m.\u001b[39mabspath(file_), \u001b[38;5;124m\"\u001b[39m\u001b[38;5;124mr\u001b[39m\u001b[38;5;124m\"\u001b[39m, encoding\u001b[38;5;241m=\u001b[39m\u001b[38;5;124m\"\u001b[39m\u001b[38;5;124mutf-8\u001b[39m\u001b[38;5;124m\"\u001b[39m) \u001b[38;5;28;01mas\u001b[39;00m f:\n\u001b[0;32m    190\u001b[0m         obj \u001b[38;5;241m=\u001b[39m yaml\u001b[38;5;241m.\u001b[39mload(f, Loader\u001b[38;5;241m=\u001b[39mget_yaml_loader())\n\u001b[0;32m    191\u001b[0m \u001b[38;5;28;01melif\u001b[39;00m \u001b[38;5;28mgetattr\u001b[39m(file_, \u001b[38;5;124m\"\u001b[39m\u001b[38;5;124mread\u001b[39m\u001b[38;5;124m\"\u001b[39m, \u001b[38;5;28;01mNone\u001b[39;00m):\n",
      "\u001b[1;31mFileNotFoundError\u001b[0m: [Errno 2] No such file or directory: 'D:\\\\StableVITON\\\\StableVITON\\\\configs\\\\None.yaml'"
     ]
    }
   ],
   "source": [
    "%run train.py\n"
   ]
  },
  {
   "cell_type": "code",
   "execution_count": null,
   "id": "01b361af-131d-46f9-b553-317568055522",
   "metadata": {},
   "outputs": [],
   "source": []
  }
 ],
 "metadata": {
  "kernelspec": {
   "display_name": "Python 3 (ipykernel)",
   "language": "python",
   "name": "python3"
  },
  "language_info": {
   "codemirror_mode": {
    "name": "ipython",
    "version": 3
   },
   "file_extension": ".py",
   "mimetype": "text/x-python",
   "name": "python",
   "nbconvert_exporter": "python",
   "pygments_lexer": "ipython3",
   "version": "3.12.3"
  }
 },
 "nbformat": 4,
 "nbformat_minor": 5
}
